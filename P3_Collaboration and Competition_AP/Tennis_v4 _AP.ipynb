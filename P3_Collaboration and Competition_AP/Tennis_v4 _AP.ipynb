{
 "cells": [
  {
   "cell_type": "markdown",
   "metadata": {},
   "source": [
    "# Collaboration and Competition\n",
    "\n",
    "---\n",
    "\n",
    "In this notebook, you will learn how to use the Unity ML-Agents environment for the third project of the [Deep Reinforcement Learning Nanodegree](https://www.udacity.com/course/deep-reinforcement-learning-nanodegree--nd893) program.\n",
    "\n",
    "### 1. Start the Environment\n",
    "\n",
    "We begin by importing the necessary packages.  If the code cell below returns an error, please revisit the project instructions to double-check that you have installed [Unity ML-Agents](https://github.com/Unity-Technologies/ml-agents/blob/master/docs/Installation.md) and [NumPy](http://www.numpy.org/)."
   ]
  },
  {
   "cell_type": "code",
   "execution_count": 1,
   "metadata": {},
   "outputs": [
    {
     "name": "stdout",
     "output_type": "stream",
     "text": [
      "\u001b[31mtensorflow 1.7.1 has requirement numpy>=1.13.3, but you'll have numpy 1.12.1 which is incompatible.\u001b[0m\r\n",
      "\u001b[31mipython 6.5.0 has requirement prompt-toolkit<2.0.0,>=1.0.15, but you'll have prompt-toolkit 2.0.10 which is incompatible.\u001b[0m\r\n"
     ]
    }
   ],
   "source": [
    "\n",
    "# when running in Udacity workspace\n",
    "!pip -q install ./python"
   ]
  },
  {
   "cell_type": "code",
   "execution_count": 2,
   "metadata": {},
   "outputs": [],
   "source": [
    "import matplotlib.pyplot as plt\n",
    "%matplotlib inline\n",
    "\n",
    "import numpy as np\n",
    "import random\n",
    "import time\n",
    "import torch\n",
    "\n",
    "from collections import deque\n",
    "from unityagents import UnityEnvironment\n",
    "\n",
    "from maddpg_agent import Agent"
   ]
  },
  {
   "cell_type": "markdown",
   "metadata": {},
   "source": [
    "Next, we will start the environment!  **_Before running the code cell below_**, change the `file_name` parameter to match the location of the Unity environment that you downloaded.\n",
    "\n",
    "- **Mac**: `\"path/to/Tennis.app\"`\n",
    "- **Windows** (x86): `\"path/to/Tennis_Windows_x86/Tennis.exe\"`\n",
    "- **Windows** (x86_64): `\"path/to/Tennis_Windows_x86_64/Tennis.exe\"`\n",
    "- **Linux** (x86): `\"path/to/Tennis_Linux/Tennis.x86\"`\n",
    "- **Linux** (x86_64): `\"path/to/Tennis_Linux/Tennis.x86_64\"`\n",
    "- **Linux** (x86, headless): `\"path/to/Tennis_Linux_NoVis/Tennis.x86\"`\n",
    "- **Linux** (x86_64, headless): `\"path/to/Tennis_Linux_NoVis/Tennis.x86_64\"`\n",
    "\n",
    "For instance, if you are using a Mac, then you downloaded `Tennis.app`.  If this file is in the same folder as the notebook, then the line below should appear as follows:\n",
    "```\n",
    "env = UnityEnvironment(file_name=\"Tennis.app\")\n",
    "```"
   ]
  },
  {
   "cell_type": "code",
   "execution_count": 3,
   "metadata": {},
   "outputs": [
    {
     "name": "stderr",
     "output_type": "stream",
     "text": [
      "INFO:unityagents:\n",
      "'Academy' started successfully!\n",
      "Unity Academy name: Academy\n",
      "        Number of Brains: 1\n",
      "        Number of External Brains : 1\n",
      "        Lesson number : 0\n",
      "        Reset Parameters :\n",
      "\t\t\n",
      "Unity brain name: TennisBrain\n",
      "        Number of Visual Observations (per agent): 0\n",
      "        Vector Observation space type: continuous\n",
      "        Vector Observation space size (per agent): 8\n",
      "        Number of stacked Vector Observation: 3\n",
      "        Vector Action space type: continuous\n",
      "        Vector Action space size (per agent): 2\n",
      "        Vector Action descriptions: , \n"
     ]
    }
   ],
   "source": [
    "# In Udacity Workspace\n",
    "env = UnityEnvironment(file_name=\"/data/Tennis_Linux_NoVis/Tennis\")\n",
    "\n",
    "# In local Ubuntu 18.04.2 LTS setup\n",
    "#env = UnityEnvironment(file_name=\"/home/m2keyofz/Downloads/Tennis_Linux/Tennis.x86_64\")"
   ]
  },
  {
   "cell_type": "markdown",
   "metadata": {},
   "source": [
    "Environments contain **_brains_** which are responsible for deciding the actions of their associated agents. Here we check for the first brain available, and set it as the default brain we will be controlling from Python."
   ]
  },
  {
   "cell_type": "code",
   "execution_count": 4,
   "metadata": {},
   "outputs": [],
   "source": [
    "# get the default brain\n",
    "brain_name = env.brain_names[0]\n",
    "brain = env.brains[brain_name]"
   ]
  },
  {
   "cell_type": "markdown",
   "metadata": {},
   "source": [
    "### 2. Examine the State and Action Spaces\n",
    "\n",
    "In this environment, two agents control rackets to bounce a ball over a net. If an agent hits the ball over the net, it receives a reward of +0.1.  If an agent lets a ball hit the ground or hits the ball out of bounds, it receives a reward of -0.01.  Thus, the goal of each agent is to keep the ball in play.\n",
    "\n",
    "The observation space consists of 8 variables corresponding to the position and velocity of the ball and racket. Two continuous actions are available, corresponding to movement toward (or away from) the net, and jumping. \n",
    "\n",
    "Run the code cell below to print some information about the environment."
   ]
  },
  {
   "cell_type": "code",
   "execution_count": 5,
   "metadata": {},
   "outputs": [
    {
     "name": "stdout",
     "output_type": "stream",
     "text": [
      "Number of agents: 2\n",
      "Size of each action: 2\n",
      "There are 2 agents. Each observes a state with length: 24\n",
      "The state for the first agent looks like: [ 0.          0.          0.          0.          0.          0.          0.\n",
      "  0.          0.          0.          0.          0.          0.          0.\n",
      "  0.          0.         -6.65278625 -1.5        -0.          0.\n",
      "  6.83172083  6.         -0.          0.        ]\n"
     ]
    }
   ],
   "source": [
    "# reset the environment\n",
    "env_info = env.reset(train_mode=True)[brain_name]\n",
    "\n",
    "# number of agents \n",
    "num_agents = len(env_info.agents)\n",
    "print('Number of agents:', num_agents)\n",
    "\n",
    "# size of each action\n",
    "action_size = brain.vector_action_space_size\n",
    "print('Size of each action:', action_size)\n",
    "\n",
    "# examine the state space \n",
    "states = env_info.vector_observations\n",
    "state_size = states.shape[1]\n",
    "print('There are {} agents. Each observes a state with length: {}'.format(states.shape[0], state_size))\n",
    "print('The state for the first agent looks like:', states[0])"
   ]
  },
  {
   "cell_type": "markdown",
   "metadata": {},
   "source": [
    "### 3. Take Random Actions in the Environment\n",
    "\n",
    "In the next code cell, you will learn how to use the Python API to control the agents and receive feedback from the environment.\n",
    "\n",
    "Once this cell is executed, you will watch the agents' performance, if they select actions at random with each time step.  A window should pop up that allows you to observe the agents.\n",
    "\n",
    "Of course, as part of the project, you'll have to change the code so that the agents are able to use their experiences to gradually choose better actions when interacting with the environment!"
   ]
  },
  {
   "cell_type": "code",
   "execution_count": 6,
   "metadata": {},
   "outputs": [
    {
     "name": "stdout",
     "output_type": "stream",
     "text": [
      "Score (max over agents) from episode 1: 0.0\n",
      "Score (max over agents) from episode 2: 0.0\n",
      "Score (max over agents) from episode 3: 0.20000000298023224\n",
      "Score (max over agents) from episode 4: 0.0\n",
      "Score (max over agents) from episode 5: 0.09000000171363354\n"
     ]
    }
   ],
   "source": [
    "for i in range(1, 6):                                      # play game for 5 episodes\n",
    "    env_info = env.reset(train_mode=False)[brain_name]     # reset the environment    \n",
    "    states = env_info.vector_observations                  # get the current state (for each agent)\n",
    "    scores = np.zeros(num_agents)                          # initialize the score (for each agent)\n",
    "    while True:\n",
    "        actions = np.random.randn(num_agents, action_size) # select an action (for each agent)\n",
    "        actions = np.clip(actions, -1, 1)                  # all actions between -1 and 1\n",
    "        env_info = env.step(actions)[brain_name]           # send all actions to tne environment\n",
    "        next_states = env_info.vector_observations         # get next state (for each agent)\n",
    "        rewards = env_info.rewards                         # get reward (for each agent)\n",
    "        dones = env_info.local_done                        # see if episode finished\n",
    "        scores += env_info.rewards                         # update the score (for each agent)\n",
    "        states = next_states                               # roll over states to next time step\n",
    "        if np.any(dones):                                  # exit loop if episode finished\n",
    "            break\n",
    "    print('Score (max over agents) from episode {}: {}'.format(i, np.max(scores)))"
   ]
  },
  {
   "cell_type": "markdown",
   "metadata": {},
   "source": [
    "### 4. Train agent to solve the environment!\n",
    "\n",
    "Now it's your turn to train your own agent to solve the environment!  When training the environment, set `train_mode=True`, so that the line for resetting the environment looks like the following:\n",
    "```python\n",
    "env_info = env.reset(train_mode=True)[brain_name]\n",
    "```"
   ]
  },
  {
   "cell_type": "code",
   "execution_count": 7,
   "metadata": {},
   "outputs": [],
   "source": [
    "# Some common parameters to use\n",
    "C_EPISODES = 100 # consecutive episodes\n",
    "PRINT_EVERY = 10\n",
    "ADD_NOISE = True\n",
    "\n",
    "NUM_STATES = state_size"
   ]
  },
  {
   "cell_type": "code",
   "execution_count": 8,
   "metadata": {},
   "outputs": [],
   "source": [
    "# Utility function\n",
    "def get_actions(states, add_noise):\n",
    "    action_0 = agent_0.act(states, add_noise)\n",
    "    action_1 = agent_1.act(states, add_noise)\n",
    "    return np.concatenate((action_0, action_1), axis=0).flatten()"
   ]
  },
  {
   "cell_type": "code",
   "execution_count": 9,
   "metadata": {},
   "outputs": [],
   "source": [
    "# MADDPG\n",
    "def maddpg(n_episodes=2500, max_t=1000):\n",
    "    \"\"\"Multi-Agent Deep Deterministic Policy Gradient (MADDPG)\n",
    "    \n",
    "    Params\n",
    "    ======\n",
    "        n_episodes (int)      : maximum number of training episodes\n",
    "        max_t (int)           : maximum number of timesteps per episode\n",
    "\n",
    "    \"\"\"\n",
    "    scores_window = deque(maxlen=C_EPISODES)\n",
    "    scores_all = []\n",
    "    moving_average = []\n",
    "    best_score = -np.inf\n",
    "    best_episode = 0\n",
    "    solved = False\n",
    "    c_states = NUM_STATES * 2 # combine states\n",
    "\n",
    "    for i_episode in range(1, n_episodes+1):\n",
    "        env_info = env.reset(train_mode=True)[brain_name]\n",
    "        states = np.reshape(env_info.vector_observations, (1,c_states))\n",
    "        \n",
    "        agent_0.reset()\n",
    "        agent_1.reset()\n",
    "        \n",
    "        scores = np.zeros(num_agents)\n",
    "        while True:\n",
    "            actions = get_actions(states, ADD_NOISE)\n",
    "            env_info = env.step(actions)[brain_name]\n",
    "            next_states = np.reshape(env_info.vector_observations, (1,c_states))\n",
    "            rewards = env_info.rewards\n",
    "            done = env_info.local_done\n",
    "            agent_0.step(states, actions, rewards[0], next_states, done, 0)\n",
    "            agent_1.step(states, actions, rewards[1], next_states, done, 1)\n",
    "            scores += np.max(rewards)\n",
    "            states = next_states\n",
    "            if np.any(done):\n",
    "                break\n",
    "\n",
    "        ep_best = np.max(scores)\n",
    "        scores_window.append(ep_best)\n",
    "        scores_all.append(ep_best)\n",
    "        moving_average.append(np.mean(scores_window))\n",
    "\n",
    "        # save best score                        \n",
    "        if ep_best > best_score:\n",
    "            best_score = ep_best\n",
    "            best_episode = i_episode\n",
    "        \n",
    "        if i_episode % PRINT_EVERY == 0:\n",
    "            print('\\tEpisode {:0>4d}\\tMoving Average: {:.3f}'.format(i_episode, moving_average[-1]))\n",
    "\n",
    "        if moving_average[-1] >= 0.5: # Reached goal?\n",
    "            if not solved:\n",
    "                print('\\n\\tEnvironment solved in {:d} episodes! \\\n",
    "                \\n\\tMoving Average: {:.3f} (over past {:d} episodes)\\n'.format(\n",
    "                    i_episode-C_EPISODES, moving_average[-1], C_EPISODES))\n",
    "                solved = True\n",
    "                \n",
    "                torch.save(agent_0.actor_local.state_dict(),  'weights/checkpoint_actor_0.pth')\n",
    "                torch.save(agent_0.critic_local.state_dict(), 'weights/checkpoint_critic_0.pth')\n",
    "                torch.save(agent_1.actor_local.state_dict(),  'weights/checkpoint_actor_1.pth')\n",
    "                torch.save(agent_1.critic_local.state_dict(), 'weights/checkpoint_critic_1.pth')\n",
    "                \n",
    "            elif ep_best >= best_score:\n",
    "                torch.save(agent_0.actor_local.state_dict(),  'weights/checkpoint_actor_0.pth')\n",
    "                torch.save(agent_0.critic_local.state_dict(), 'weights/checkpoint_critic_0.pth')\n",
    "                torch.save(agent_1.actor_local.state_dict(), 'weights/checkpoint_actor_1.pth')\n",
    "                torch.save(agent_1.critic_local.state_dict(), 'weights/checkpoint_critic_1.pth')\n",
    "            elif (i_episode-best_episode) >= 200:\n",
    "                print('\\n\\tTraining stopped: best score stale for 200 episodes.')\n",
    "                break\n",
    "                \n",
    "            else:\n",
    "                continue\n",
    "    return scores_all, moving_average\n"
   ]
  },
  {
   "cell_type": "code",
   "execution_count": 10,
   "metadata": {},
   "outputs": [],
   "source": [
    "# initialize agents\n",
    "agent_0 = Agent(state_size, action_size, num_agents=1, random_seed=0)\n",
    "agent_1 = Agent(state_size, action_size, num_agents=1, random_seed=0)"
   ]
  },
  {
   "cell_type": "markdown",
   "metadata": {},
   "source": [
    "#### Train Model!"
   ]
  },
  {
   "cell_type": "code",
   "execution_count": 11,
   "metadata": {},
   "outputs": [],
   "source": [
    "start = time.time()"
   ]
  },
  {
   "cell_type": "code",
   "execution_count": 12,
   "metadata": {},
   "outputs": [],
   "source": [
    "# Hyper-parameters used (taken from maddpg_agent.py)\n",
    "\n",
    "# BUFFER_SIZE = int(1e6)  # replay buffer size\n",
    "# BATCH_SIZE = 128        # minibatch size\n",
    "# LR_ACTOR = 1e-3         # learning rate of the actor\n",
    "# LR_CRITIC = 1e-3        # learning rate of the critic\n",
    "# WEIGHT_DECAY = 0        # L2 weight decay\n",
    "# LEARN_EVERY = 10        # learning timestep interval\n",
    "# LEARN_NUM = 5           # number of learning passes\n",
    "# GAMMA = 0.99            # discount factor\n",
    "# TAU = 8e-3              # for soft update of target parameters\n",
    "# OU_SIGMA = 0.2          # Ornstein-Uhlenbeck noise parameter, volatility\n",
    "# OU_THETA = 0.15         # Ornstein-Uhlenbeck noise parameter, speed of mean reversion\n",
    "# EPS_START = 5.0         # initial value for epsilon in noise decay process in Agent.act()\n",
    "# EPS_EP_END = 300        # episode to end the noise decay process\n",
    "# EPS_FINAL = 0           # final value for epsilon after decay"
   ]
  },
  {
   "cell_type": "code",
   "execution_count": 13,
   "metadata": {},
   "outputs": [
    {
     "name": "stdout",
     "output_type": "stream",
     "text": [
      "\tEpisode 0010\tMoving Average: 0.000\n",
      "\tEpisode 0020\tMoving Average: 0.000\n",
      "\tEpisode 0030\tMoving Average: 0.000\n",
      "\tEpisode 0040\tMoving Average: 0.003\n",
      "\tEpisode 0050\tMoving Average: 0.004\n",
      "\tEpisode 0060\tMoving Average: 0.007\n",
      "\tEpisode 0070\tMoving Average: 0.007\n",
      "\tEpisode 0080\tMoving Average: 0.008\n",
      "\tEpisode 0090\tMoving Average: 0.007\n",
      "\tEpisode 0100\tMoving Average: 0.008\n",
      "\tEpisode 0110\tMoving Average: 0.008\n",
      "\tEpisode 0120\tMoving Average: 0.010\n",
      "\tEpisode 0130\tMoving Average: 0.011\n",
      "\tEpisode 0140\tMoving Average: 0.015\n",
      "\tEpisode 0150\tMoving Average: 0.016\n",
      "\tEpisode 0160\tMoving Average: 0.015\n",
      "\tEpisode 0170\tMoving Average: 0.015\n",
      "\tEpisode 0180\tMoving Average: 0.016\n",
      "\tEpisode 0190\tMoving Average: 0.017\n",
      "\tEpisode 0200\tMoving Average: 0.016\n",
      "\tEpisode 0210\tMoving Average: 0.017\n",
      "\tEpisode 0220\tMoving Average: 0.018\n",
      "\tEpisode 0230\tMoving Average: 0.019\n",
      "\tEpisode 0240\tMoving Average: 0.015\n",
      "\tEpisode 0250\tMoving Average: 0.013\n",
      "\tEpisode 0260\tMoving Average: 0.013\n",
      "\tEpisode 0270\tMoving Average: 0.014\n",
      "\tEpisode 0280\tMoving Average: 0.015\n",
      "\tEpisode 0290\tMoving Average: 0.016\n",
      "\tEpisode 0300\tMoving Average: 0.019\n",
      "\tEpisode 0310\tMoving Average: 0.019\n",
      "\tEpisode 0320\tMoving Average: 0.016\n",
      "\tEpisode 0330\tMoving Average: 0.014\n",
      "\tEpisode 0340\tMoving Average: 0.020\n",
      "\tEpisode 0350\tMoving Average: 0.023\n",
      "\tEpisode 0360\tMoving Average: 0.027\n",
      "\tEpisode 0370\tMoving Average: 0.032\n",
      "\tEpisode 0380\tMoving Average: 0.037\n",
      "\tEpisode 0390\tMoving Average: 0.041\n",
      "\tEpisode 0400\tMoving Average: 0.045\n",
      "\tEpisode 0410\tMoving Average: 0.053\n",
      "\tEpisode 0420\tMoving Average: 0.059\n",
      "\tEpisode 0430\tMoving Average: 0.065\n",
      "\tEpisode 0440\tMoving Average: 0.063\n",
      "\tEpisode 0450\tMoving Average: 0.069\n",
      "\tEpisode 0460\tMoving Average: 0.070\n",
      "\tEpisode 0470\tMoving Average: 0.070\n",
      "\tEpisode 0480\tMoving Average: 0.074\n",
      "\tEpisode 0490\tMoving Average: 0.078\n",
      "\tEpisode 0500\tMoving Average: 0.083\n",
      "\tEpisode 0510\tMoving Average: 0.082\n",
      "\tEpisode 0520\tMoving Average: 0.083\n",
      "\tEpisode 0530\tMoving Average: 0.092\n",
      "\tEpisode 0540\tMoving Average: 0.107\n",
      "\tEpisode 0550\tMoving Average: 0.109\n",
      "\tEpisode 0560\tMoving Average: 0.115\n",
      "\tEpisode 0570\tMoving Average: 0.130\n",
      "\tEpisode 0580\tMoving Average: 0.129\n",
      "\tEpisode 0590\tMoving Average: 0.126\n",
      "\tEpisode 0600\tMoving Average: 0.135\n",
      "\tEpisode 0610\tMoving Average: 0.142\n",
      "\tEpisode 0620\tMoving Average: 0.157\n",
      "\tEpisode 0630\tMoving Average: 0.163\n",
      "\tEpisode 0640\tMoving Average: 0.161\n",
      "\tEpisode 0650\tMoving Average: 0.162\n",
      "\tEpisode 0660\tMoving Average: 0.170\n",
      "\tEpisode 0670\tMoving Average: 0.179\n",
      "\tEpisode 0680\tMoving Average: 0.198\n",
      "\tEpisode 0690\tMoving Average: 0.207\n",
      "\tEpisode 0700\tMoving Average: 0.199\n",
      "\tEpisode 0710\tMoving Average: 0.206\n",
      "\tEpisode 0720\tMoving Average: 0.207\n",
      "\tEpisode 0730\tMoving Average: 0.210\n",
      "\tEpisode 0740\tMoving Average: 0.210\n",
      "\tEpisode 0750\tMoving Average: 0.221\n",
      "\tEpisode 0760\tMoving Average: 0.232\n",
      "\tEpisode 0770\tMoving Average: 0.232\n",
      "\tEpisode 0780\tMoving Average: 0.250\n",
      "\tEpisode 0790\tMoving Average: 0.258\n",
      "\tEpisode 0800\tMoving Average: 0.263\n",
      "\tEpisode 0810\tMoving Average: 0.316\n",
      "\tEpisode 0820\tMoving Average: 0.321\n",
      "\tEpisode 0830\tMoving Average: 0.359\n",
      "\tEpisode 0840\tMoving Average: 0.420\n",
      "\tEpisode 0850\tMoving Average: 0.449\n",
      "\n",
      "\tEnvironment solved in 754 episodes!                 \n",
      "\tMoving Average: 0.515 (over past 100 episodes)\n",
      "\n",
      "\tEpisode 0860\tMoving Average: 0.550\n",
      "\tEpisode 0870\tMoving Average: 0.622\n",
      "\tEpisode 0880\tMoving Average: 0.608\n",
      "\tEpisode 0890\tMoving Average: 0.604\n",
      "\tEpisode 0900\tMoving Average: 0.605\n",
      "\tEpisode 0910\tMoving Average: 0.559\n",
      "\tEpisode 0920\tMoving Average: 0.605\n",
      "\tEpisode 0930\tMoving Average: 0.579\n",
      "\tEpisode 0940\tMoving Average: 0.564\n",
      "\tEpisode 0950\tMoving Average: 0.553\n",
      "\tEpisode 0960\tMoving Average: 0.473\n",
      "\tEpisode 0970\tMoving Average: 0.414\n",
      "\tEpisode 0980\tMoving Average: 0.484\n",
      "\tEpisode 0990\tMoving Average: 0.505\n",
      "\tEpisode 1000\tMoving Average: 0.563\n",
      "\tEpisode 1010\tMoving Average: 0.669\n",
      "\tEpisode 1020\tMoving Average: 0.740\n",
      "\tEpisode 1030\tMoving Average: 0.784\n",
      "\tEpisode 1040\tMoving Average: 0.786\n",
      "\tEpisode 1050\tMoving Average: 0.888\n",
      "\tEpisode 1060\tMoving Average: 0.967\n",
      "\n",
      "\tTraining stopped: best score stale for 200 episodes.\n"
     ]
    }
   ],
   "source": [
    "scores, avgs = maddpg()\n",
    "\n",
    "# Episode 0730\tMoving Average: 0.467\n",
    "# Environment solved in 634 episodes!                 \n",
    "# Moving Average: 0.506 (over past 100 episodes)"
   ]
  },
  {
   "cell_type": "code",
   "execution_count": 17,
   "metadata": {},
   "outputs": [
    {
     "name": "stdout",
     "output_type": "stream",
     "text": [
      "Elapsed: 17.22 mins.\n"
     ]
    }
   ],
   "source": [
    "end = time.time()\n",
    "elapsed = (end - start) / 60.0\n",
    "print(\"Elapsed: {0:3.2f} mins.\".format(elapsed))"
   ]
  },
  {
   "cell_type": "code",
   "execution_count": 15,
   "metadata": {},
   "outputs": [
    {
     "data": {
      "image/png": "[encoded data removed]",
      "text/plain": [
       "<matplotlib.figure.Figure at 0x7fac1829ceb8>"
      ]
     },
     "metadata": {
      "needs_background": "light"
     },
     "output_type": "display_data"
    }
   ],
   "source": [
    "# plot the scores\n",
    "fig = plt.figure()\n",
    "ax = fig.add_subplot(111)\n",
    "plt.plot(np.arange(len(scores)), scores, label='MADDPG')\n",
    "plt.plot(np.arange(len(scores)), avgs, c='r', label='Moving AVG')\n",
    "plt.ylabel('Score')\n",
    "plt.xlabel('Episode #')\n",
    "plt.legend(loc='upper left');\n",
    "plt.show()"
   ]
  },
  {
   "cell_type": "code",
   "execution_count": 16,
   "metadata": {},
   "outputs": [],
   "source": [
    "env.close()"
   ]
  },
  {
   "cell_type": "code",
   "execution_count": null,
   "metadata": {},
   "outputs": [],
   "source": []
  }
 ],
 "metadata": {
  "kernelspec": {
   "display_name": "Python 3",
   "language": "python",
   "name": "python3"
  },
  "language_info": {
   "codemirror_mode": {
    "name": "ipython",
    "version": 3
   },
   "file_extension": ".py",
   "mimetype": "text/x-python",
   "name": "python",
   "nbconvert_exporter": "python",
   "pygments_lexer": "ipython3",
   "version": "3.6.3"
  }
 },
 "nbformat": 4,
 "nbformat_minor": 2
}
