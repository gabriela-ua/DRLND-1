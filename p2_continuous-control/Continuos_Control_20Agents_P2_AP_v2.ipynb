{
 "cells": [
  {
   "cell_type": "markdown",
   "metadata": {},
   "source": [
    "# Continuous Control\n",
    "\n",
    "---\n",
    "\n",
    "In this notebook, you will learn how to use the Unity ML-Agents environment for the second project of the [Deep Reinforcement Learning Nanodegree](https://www.udacity.com/course/deep-reinforcement-learning-nanodegree--nd893) program.\n",
    "\n",
    "### 1. Start the Environment\n",
    "\n",
    "We begin by importing the necessary packages.  If the code cell below returns an error, please revisit the project instructions to double-check that you have installed [Unity ML-Agents](https://github.com/Unity-Technologies/ml-agents/blob/master/docs/Installation.md) and [NumPy](http://www.numpy.org/)."
   ]
  },
  {
   "cell_type": "code",
   "execution_count": 1,
   "metadata": {},
   "outputs": [
    {
     "name": "stdout",
     "output_type": "stream",
     "text": [
      "\u001b[31mtensorflow 1.7.1 has requirement numpy>=1.13.3, but you'll have numpy 1.12.1 which is incompatible.\u001b[0m\r\n",
      "\u001b[31mipython 6.5.0 has requirement prompt-toolkit<2.0.0,>=1.0.15, but you'll have prompt-toolkit 2.0.10 which is incompatible.\u001b[0m\r\n"
     ]
    }
   ],
   "source": [
    "!pip -q install ./python"
   ]
  },
  {
   "cell_type": "code",
   "execution_count": 2,
   "metadata": {},
   "outputs": [],
   "source": [
    "from ddpg_agent import Agent\n",
    "from collections import deque\n",
    "import matplotlib.pyplot as plt\n",
    "import numpy as np\n",
    "import random\n",
    "import time\n",
    "import torch\n",
    "from unityagents import UnityEnvironment\n",
    "\n",
    "%matplotlib inline"
   ]
  },
  {
   "cell_type": "markdown",
   "metadata": {},
   "source": [
    "Next, we will start the environment!  **_Before running the code cell below_**, change the `file_name` parameter to match the location of the Unity environment that you downloaded.\n",
    "\n",
    "- **Mac**: `\"path/to/Reacher.app\"`\n",
    "- **Windows** (x86): `\"path/to/Reacher_Windows_x86/Reacher.exe\"`\n",
    "- **Windows** (x86_64): `\"path/to/Reacher_Windows_x86_64/Reacher.exe\"`\n",
    "- **Linux** (x86): `\"path/to/Reacher_Linux/Reacher.x86\"`\n",
    "- **Linux** (x86_64): `\"path/to/Reacher_Linux/Reacher.x86_64\"`\n",
    "- **Linux** (x86, headless): `\"path/to/Reacher_Linux_NoVis/Reacher.x86\"`\n",
    "- **Linux** (x86_64, headless): `\"path/to/Reacher_Linux_NoVis/Reacher.x86_64\"`\n",
    "\n",
    "For instance, if you are using a Mac, then you downloaded `Reacher.app`.  If this file is in the same folder as the notebook, then the line below should appear as follows:\n",
    "```\n",
    "env = UnityEnvironment(file_name=\"Reacher.app\")\n",
    "```"
   ]
  },
  {
   "cell_type": "code",
   "execution_count": 3,
   "metadata": {},
   "outputs": [
    {
     "name": "stderr",
     "output_type": "stream",
     "text": [
      "INFO:unityagents:\n",
      "'Academy' started successfully!\n",
      "Unity Academy name: Academy\n",
      "        Number of Brains: 1\n",
      "        Number of External Brains : 1\n",
      "        Lesson number : 0\n",
      "        Reset Parameters :\n",
      "\t\tgoal_speed -> 1.0\n",
      "\t\tgoal_size -> 5.0\n",
      "Unity brain name: ReacherBrain\n",
      "        Number of Visual Observations (per agent): 0\n",
      "        Vector Observation space type: continuous\n",
      "        Vector Observation space size (per agent): 33\n",
      "        Number of stacked Vector Observation: 1\n",
      "        Vector Action space type: continuous\n",
      "        Vector Action space size (per agent): 4\n",
      "        Vector Action descriptions: , , , \n"
     ]
    }
   ],
   "source": [
    "\n",
    "#Option to load version 1 (with a single agent) of the environment\n",
    "#env = UnityEnvironment(file_name='/data/Reacher_One_Linux_NoVis/Reacher_One_Linux_NoVis.x86_64')\n",
    "\n",
    "# Option to load version 2 (with 20 agents) of the environment\n",
    "env = UnityEnvironment(file_name='/data/Reacher_Linux_NoVis/Reacher.x86_64')"
   ]
  },
  {
   "cell_type": "markdown",
   "metadata": {},
   "source": [
    "Environments contain **_brains_** which are responsible for deciding the actions of their associated agents. Here we check for the first brain available, and set it as the default brain we will be controlling from Python."
   ]
  },
  {
   "cell_type": "code",
   "execution_count": 4,
   "metadata": {},
   "outputs": [],
   "source": [
    "# get the default brain\n",
    "brain_name = env.brain_names[0]\n",
    "brain = env.brains[brain_name]"
   ]
  },
  {
   "cell_type": "markdown",
   "metadata": {},
   "source": [
    "### 2. Examine the State and Action Spaces\n",
    "\n",
    "In this environment, a double-jointed arm can move to target locations. A reward of `+0.1` is provided for each step that the agent's hand is in the goal location. Thus, the goal of your agent is to maintain its position at the target location for as many time steps as possible.\n",
    "\n",
    "The observation space consists of `33` variables corresponding to position, rotation, velocity, and angular velocities of the arm.  Each action is a vector with four numbers, corresponding to torque applicable to two joints.  Every entry in the action vector must be a number between `-1` and `1`.\n",
    "\n",
    "Run the code cell below to print some information about the environment."
   ]
  },
  {
   "cell_type": "code",
   "execution_count": 5,
   "metadata": {},
   "outputs": [
    {
     "name": "stdout",
     "output_type": "stream",
     "text": [
      "Number of agents: 20\n",
      "Size of each action: 4\n",
      "There are 20 agents. Each observes a state with length: 33\n",
      "The state for the first agent looks like: [  0.00000000e+00  -4.00000000e+00   0.00000000e+00   1.00000000e+00\n",
      "  -0.00000000e+00  -0.00000000e+00  -4.37113883e-08   0.00000000e+00\n",
      "   0.00000000e+00   0.00000000e+00   0.00000000e+00   0.00000000e+00\n",
      "   0.00000000e+00   0.00000000e+00  -1.00000000e+01   0.00000000e+00\n",
      "   1.00000000e+00  -0.00000000e+00  -0.00000000e+00  -4.37113883e-08\n",
      "   0.00000000e+00   0.00000000e+00   0.00000000e+00   0.00000000e+00\n",
      "   0.00000000e+00   0.00000000e+00   5.75471878e+00  -1.00000000e+00\n",
      "   5.55726624e+00   0.00000000e+00   1.00000000e+00   0.00000000e+00\n",
      "  -1.68164849e-01]\n"
     ]
    }
   ],
   "source": [
    "# reset the environment\n",
    "env_info = env.reset(train_mode=True)[brain_name]\n",
    "\n",
    "# number of agents\n",
    "num_agents = len(env_info.agents)\n",
    "print('Number of agents:', num_agents)\n",
    "\n",
    "# size of each action\n",
    "action_size = brain.vector_action_space_size\n",
    "print('Size of each action:', action_size)\n",
    "\n",
    "# examine the state space \n",
    "states = env_info.vector_observations\n",
    "state_size = states.shape[1]\n",
    "print('There are {} agents. Each observes a state with length: {}'.format(states.shape[0], state_size))\n",
    "print('The state for the first agent looks like:', states[0])"
   ]
  },
  {
   "cell_type": "markdown",
   "metadata": {},
   "source": [
    "### 3. Take Random Actions in the Environment\n",
    "\n",
    "In the next code cell, you will learn how to use the Python API to control the agent and receive feedback from the environment.\n",
    "\n",
    "Once this cell is executed, you will watch the agent's performance, if it selects an action at random with each time step.  A window should pop up that allows you to observe the agent, as it moves through the environment.  \n",
    "\n",
    "Of course, as part of the project, you'll have to change the code so that the agent is able to use its experience to gradually choose better actions when interacting with the environment!"
   ]
  },
  {
   "cell_type": "code",
   "execution_count": 6,
   "metadata": {},
   "outputs": [
    {
     "name": "stdout",
     "output_type": "stream",
     "text": [
      "Total score (averaged over agents) this episode: 0.07199999839067459\n"
     ]
    }
   ],
   "source": [
    "env_info = env.reset(train_mode=False)[brain_name]     # reset the environment    \n",
    "states = env_info.vector_observations                  # get the current state (for each agent)\n",
    "scores = np.zeros(num_agents)                          # initialize the score (for each agent)\n",
    "while True:\n",
    "    actions = np.random.randn(num_agents, action_size) # select an action (for each agent)\n",
    "    actions = np.clip(actions, -1, 1)                  # all actions between -1 and 1\n",
    "    env_info = env.step(actions)[brain_name]           # send all actions to tne environment\n",
    "    next_states = env_info.vector_observations         # get next state (for each agent)\n",
    "    rewards = env_info.rewards                         # get reward (for each agent)\n",
    "    dones = env_info.local_done                        # see if episode finished\n",
    "    scores += env_info.rewards                         # update the score (for each agent)\n",
    "    states = next_states                               # roll over states to next time step\n",
    "    if np.any(dones):                                  # exit loop if episode finished\n",
    "        break\n",
    "print('Total score (averaged over agents) this episode: {}'.format(np.mean(scores)))"
   ]
  },
  {
   "cell_type": "markdown",
   "metadata": {},
   "source": [
    "When finished, you can close the environment."
   ]
  },
  {
   "cell_type": "code",
   "execution_count": 7,
   "metadata": {},
   "outputs": [],
   "source": [
    "#env.close()"
   ]
  },
  {
   "cell_type": "markdown",
   "metadata": {},
   "source": [
    "### 4. It's Your Turn!\n",
    "\n",
    "Now it's your turn to train your own agent to solve the environment!  When training the environment, set `train_mode=True`, so that the line for resetting the environment looks like the following:\n",
    "```python\n",
    "env_info = env.reset(train_mode=True)[brain_name]\n",
    "```"
   ]
  },
  {
   "cell_type": "code",
   "execution_count": 8,
   "metadata": {},
   "outputs": [],
   "source": [
    "#SEED = 42"
   ]
  },
  {
   "cell_type": "code",
   "execution_count": 9,
   "metadata": {},
   "outputs": [],
   "source": [
    "# DDPG function\n",
    "\n",
    "def ddpg(n_episodes=500, max_t=1000, solved_score=30.0, consec_episodes=100, print_every=1, train_mode=True,\n",
    "         actor_path='actor_ckpt.pth', critic_path='critic_ckpt.pth'):\n",
    "    \"\"\"Deep Deterministic Policy Gradient (DDPG)\n",
    "    \n",
    "    Params\n",
    "    ======\n",
    "        n_episodes (int)      : maximum number of training episodes\n",
    "        max_t (int)           : maximum number of timesteps per episode\n",
    "        train_mode (bool)     : if 'True' set environment to training mode\n",
    "        solved_score (float)  : min avg score over consecutive episodes\n",
    "        consec_episodes (int) : number of consecutive episodes used to calculate score\n",
    "        print_every (int)     : interval to display results\n",
    "        actor_path (str)      : directory to store actor network weights\n",
    "        critic_path (str)     : directory to store critic network weights\n",
    "\n",
    "    \"\"\"\n",
    "    mean_scores = []                               # list of mean scores from each episode\n",
    "    min_scores = []                                # list of lowest scores from each episode\n",
    "    max_scores = []                                # list of highest scores from each episode\n",
    "    best_score = -np.inf\n",
    "    scores_window = deque(maxlen=consec_episodes)  # mean scores from most recent episodes\n",
    "    moving_avgs = []                   \n",
    "    \n",
    "    for i_episode in range(1, n_episodes+1):\n",
    "        env_info = env.reset(train_mode=train_mode)[brain_name] # reset environment\n",
    "        states = env_info.vector_observations                   # get current state for each agent      \n",
    "        scores = np.zeros(num_agents)                           # initialize score for each agent\n",
    "        agent.reset()\n",
    "        start_time = time.time()\n",
    "        for t in range(max_t):\n",
    "            actions = agent.act(states, add_noise=True)         # select an action\n",
    "            env_info = env.step(actions)[brain_name]            # send actions to environment\n",
    "            next_states = env_info.vector_observations          # get next state\n",
    "            rewards = env_info.rewards                          # get reward\n",
    "            dones = env_info.local_done                         # see if episode has finished\n",
    "            # save experience to replay buffer, perform learning step at defined interval\n",
    "            for state, action, reward, next_state, done in zip(states, actions, rewards, next_states, dones):\n",
    "                agent.step(state, action, reward, next_state, done, t)             \n",
    "            states = next_states\n",
    "            scores += rewards        \n",
    "            if np.any(dones):                                   # exit loop when episode ends\n",
    "                break\n",
    "                \n",
    "        duration = time.time() - start_time\n",
    "        min_scores.append(np.min(scores))             # save lowest score for a single agent\n",
    "        max_scores.append(np.max(scores))             # save highest score for a single agent        \n",
    "        mean_scores.append(np.mean(scores))           # save mean score for the episode\n",
    "        scores_window.append(mean_scores[-1])         # save mean score to window\n",
    "        moving_avgs.append(np.mean(scores_window))    # save moving average\n",
    "                \n",
    "        if i_episode % print_every == 0:\n",
    "            print('\\rEpisode {} ({} sec)  -- \\tMin: {:.1f}\\tMax: {:.1f}\\tMean: {:.1f}\\tMov. Avg: {:.1f}'.format(\\\n",
    "                  i_episode, round(duration), min_scores[-1], max_scores[-1], mean_scores[-1], moving_avgs[-1]))\n",
    "        \n",
    "        if train_mode and mean_scores[-1] > best_score:\n",
    "            torch.save(agent.actor_local.state_dict(), actor_path)\n",
    "            torch.save(agent.critic_local.state_dict(), critic_path)\n",
    "                  \n",
    "        if moving_avgs[-1] >= solved_score and i_episode >= consec_episodes:\n",
    "            print('\\nEnvironment SOLVED in {} episodes!\\tMoving Average ={:.1f} over last {} episodes'.format(\\\n",
    "                                    i_episode-consec_episodes, moving_avgs[-1], consec_episodes))            \n",
    "            if train_mode:\n",
    "                torch.save(agent.actor_local.state_dict(), actor_path)\n",
    "                torch.save(agent.critic_local.state_dict(), critic_path)  \n",
    "            break\n",
    "            \n",
    "    return mean_scores, moving_avgs\n",
    " \n",
    "    \n"
   ]
  },
  {
   "cell_type": "code",
   "execution_count": 10,
   "metadata": {},
   "outputs": [],
   "source": [
    "start = time.time()"
   ]
  },
  {
   "cell_type": "code",
   "execution_count": 11,
   "metadata": {},
   "outputs": [
    {
     "name": "stdout",
     "output_type": "stream",
     "text": [
      "Episode 1 (110 sec)  -- \tMin: 0.2\tMax: 3.1\tMean: 1.3\tMov. Avg: 1.3\n",
      "Episode 2 (116 sec)  -- \tMin: 0.5\tMax: 3.4\tMean: 1.8\tMov. Avg: 1.6\n",
      "Episode 3 (118 sec)  -- \tMin: 0.7\tMax: 4.8\tMean: 2.6\tMov. Avg: 1.9\n",
      "Episode 4 (119 sec)  -- \tMin: 0.6\tMax: 4.2\tMean: 2.2\tMov. Avg: 2.0\n",
      "Episode 5 (120 sec)  -- \tMin: 1.1\tMax: 5.6\tMean: 3.5\tMov. Avg: 2.3\n",
      "Episode 6 (121 sec)  -- \tMin: 1.6\tMax: 7.1\tMean: 4.0\tMov. Avg: 2.6\n",
      "Episode 7 (122 sec)  -- \tMin: 2.4\tMax: 9.0\tMean: 4.7\tMov. Avg: 2.9\n",
      "Episode 8 (122 sec)  -- \tMin: 3.2\tMax: 7.9\tMean: 5.1\tMov. Avg: 3.1\n",
      "Episode 9 (123 sec)  -- \tMin: 4.6\tMax: 13.2\tMean: 7.2\tMov. Avg: 3.6\n",
      "Episode 10 (125 sec)  -- \tMin: 5.3\tMax: 16.4\tMean: 9.4\tMov. Avg: 4.2\n",
      "Episode 11 (126 sec)  -- \tMin: 2.2\tMax: 13.9\tMean: 9.6\tMov. Avg: 4.7\n",
      "Episode 12 (128 sec)  -- \tMin: 4.5\tMax: 16.3\tMean: 9.3\tMov. Avg: 5.1\n",
      "Episode 13 (129 sec)  -- \tMin: 3.5\tMax: 15.5\tMean: 9.4\tMov. Avg: 5.4\n",
      "Episode 14 (130 sec)  -- \tMin: 3.7\tMax: 18.5\tMean: 12.4\tMov. Avg: 5.9\n",
      "Episode 15 (132 sec)  -- \tMin: 3.7\tMax: 17.0\tMean: 12.1\tMov. Avg: 6.3\n",
      "Episode 16 (134 sec)  -- \tMin: 4.3\tMax: 19.7\tMean: 13.3\tMov. Avg: 6.7\n",
      "Episode 17 (136 sec)  -- \tMin: 6.8\tMax: 19.9\tMean: 14.2\tMov. Avg: 7.2\n",
      "Episode 18 (138 sec)  -- \tMin: 6.5\tMax: 21.0\tMean: 15.9\tMov. Avg: 7.7\n",
      "Episode 19 (141 sec)  -- \tMin: 6.4\tMax: 22.1\tMean: 16.0\tMov. Avg: 8.1\n",
      "Episode 20 (143 sec)  -- \tMin: 6.5\tMax: 24.8\tMean: 17.8\tMov. Avg: 8.6\n",
      "Episode 21 (144 sec)  -- \tMin: 8.1\tMax: 25.8\tMean: 19.3\tMov. Avg: 9.1\n",
      "Episode 22 (147 sec)  -- \tMin: 16.5\tMax: 27.5\tMean: 21.9\tMov. Avg: 9.7\n",
      "Episode 23 (148 sec)  -- \tMin: 15.8\tMax: 27.7\tMean: 23.1\tMov. Avg: 10.3\n",
      "Episode 24 (152 sec)  -- \tMin: 14.1\tMax: 32.0\tMean: 24.8\tMov. Avg: 10.9\n",
      "Episode 25 (154 sec)  -- \tMin: 21.8\tMax: 32.6\tMean: 27.1\tMov. Avg: 11.5\n",
      "Episode 26 (157 sec)  -- \tMin: 19.7\tMax: 32.3\tMean: 27.3\tMov. Avg: 12.1\n",
      "Episode 27 (159 sec)  -- \tMin: 24.4\tMax: 34.1\tMean: 31.0\tMov. Avg: 12.8\n",
      "Episode 28 (162 sec)  -- \tMin: 27.1\tMax: 36.9\tMean: 31.6\tMov. Avg: 13.5\n",
      "Episode 29 (164 sec)  -- \tMin: 27.4\tMax: 36.7\tMean: 32.4\tMov. Avg: 14.1\n",
      "Episode 30 (167 sec)  -- \tMin: 20.8\tMax: 36.5\tMean: 32.7\tMov. Avg: 14.8\n",
      "Episode 31 (170 sec)  -- \tMin: 17.4\tMax: 36.2\tMean: 31.5\tMov. Avg: 15.3\n",
      "Episode 32 (172 sec)  -- \tMin: 29.7\tMax: 36.2\tMean: 33.7\tMov. Avg: 15.9\n",
      "Episode 33 (175 sec)  -- \tMin: 27.6\tMax: 37.6\tMean: 34.5\tMov. Avg: 16.4\n",
      "Episode 34 (177 sec)  -- \tMin: 26.0\tMax: 38.6\tMean: 35.9\tMov. Avg: 17.0\n",
      "Episode 35 (179 sec)  -- \tMin: 26.8\tMax: 39.0\tMean: 36.1\tMov. Avg: 17.6\n",
      "Episode 36 (182 sec)  -- \tMin: 29.7\tMax: 38.9\tMean: 36.9\tMov. Avg: 18.1\n",
      "Episode 37 (184 sec)  -- \tMin: 32.1\tMax: 38.6\tMean: 36.7\tMov. Avg: 18.6\n",
      "Episode 38 (187 sec)  -- \tMin: 26.9\tMax: 39.0\tMean: 35.2\tMov. Avg: 19.0\n",
      "Episode 39 (189 sec)  -- \tMin: 30.7\tMax: 39.5\tMean: 36.3\tMov. Avg: 19.5\n",
      "Episode 40 (187 sec)  -- \tMin: 31.2\tMax: 39.2\tMean: 36.1\tMov. Avg: 19.9\n",
      "Episode 41 (190 sec)  -- \tMin: 32.0\tMax: 39.5\tMean: 38.0\tMov. Avg: 20.3\n",
      "Episode 42 (193 sec)  -- \tMin: 33.0\tMax: 39.5\tMean: 38.4\tMov. Avg: 20.8\n",
      "Episode 43 (198 sec)  -- \tMin: 33.2\tMax: 39.5\tMean: 38.0\tMov. Avg: 21.2\n",
      "Episode 44 (202 sec)  -- \tMin: 29.0\tMax: 39.6\tMean: 37.7\tMov. Avg: 21.5\n",
      "Episode 45 (198 sec)  -- \tMin: 34.5\tMax: 39.5\tMean: 38.0\tMov. Avg: 21.9\n",
      "Episode 46 (203 sec)  -- \tMin: 34.2\tMax: 39.5\tMean: 37.9\tMov. Avg: 22.3\n",
      "Episode 47 (210 sec)  -- \tMin: 35.4\tMax: 39.6\tMean: 37.7\tMov. Avg: 22.6\n",
      "Episode 48 (212 sec)  -- \tMin: 35.3\tMax: 39.3\tMean: 38.1\tMov. Avg: 22.9\n",
      "Episode 49 (215 sec)  -- \tMin: 34.1\tMax: 39.5\tMean: 38.5\tMov. Avg: 23.2\n",
      "Episode 50 (214 sec)  -- \tMin: 36.5\tMax: 39.5\tMean: 38.7\tMov. Avg: 23.5\n",
      "Episode 51 (220 sec)  -- \tMin: 37.2\tMax: 39.6\tMean: 38.8\tMov. Avg: 23.8\n",
      "Episode 52 (219 sec)  -- \tMin: 33.0\tMax: 39.5\tMean: 38.3\tMov. Avg: 24.1\n",
      "Episode 53 (220 sec)  -- \tMin: 37.5\tMax: 39.6\tMean: 38.8\tMov. Avg: 24.4\n",
      "Episode 54 (215 sec)  -- \tMin: 36.0\tMax: 39.6\tMean: 38.7\tMov. Avg: 24.7\n",
      "Episode 55 (210 sec)  -- \tMin: 36.2\tMax: 39.6\tMean: 38.9\tMov. Avg: 24.9\n",
      "Episode 56 (216 sec)  -- \tMin: 37.1\tMax: 39.3\tMean: 38.7\tMov. Avg: 25.2\n",
      "Episode 57 (219 sec)  -- \tMin: 37.7\tMax: 39.6\tMean: 39.0\tMov. Avg: 25.4\n",
      "Episode 58 (215 sec)  -- \tMin: 38.2\tMax: 39.6\tMean: 39.1\tMov. Avg: 25.6\n",
      "Episode 59 (219 sec)  -- \tMin: 37.6\tMax: 39.6\tMean: 39.1\tMov. Avg: 25.9\n",
      "Episode 60 (220 sec)  -- \tMin: 37.8\tMax: 39.6\tMean: 39.2\tMov. Avg: 26.1\n",
      "Episode 61 (219 sec)  -- \tMin: 39.0\tMax: 39.6\tMean: 39.4\tMov. Avg: 26.3\n",
      "Episode 62 (214 sec)  -- \tMin: 38.0\tMax: 39.6\tMean: 39.2\tMov. Avg: 26.5\n",
      "Episode 63 (217 sec)  -- \tMin: 34.8\tMax: 39.6\tMean: 38.6\tMov. Avg: 26.7\n",
      "Episode 64 (217 sec)  -- \tMin: 37.5\tMax: 39.6\tMean: 39.3\tMov. Avg: 26.9\n",
      "Episode 65 (213 sec)  -- \tMin: 37.8\tMax: 39.6\tMean: 38.8\tMov. Avg: 27.1\n",
      "Episode 66 (218 sec)  -- \tMin: 37.1\tMax: 39.6\tMean: 39.0\tMov. Avg: 27.3\n",
      "Episode 67 (219 sec)  -- \tMin: 33.7\tMax: 39.6\tMean: 38.7\tMov. Avg: 27.4\n",
      "Episode 68 (217 sec)  -- \tMin: 37.7\tMax: 39.6\tMean: 39.2\tMov. Avg: 27.6\n",
      "Episode 69 (216 sec)  -- \tMin: 37.8\tMax: 39.7\tMean: 39.2\tMov. Avg: 27.8\n",
      "Episode 70 (217 sec)  -- \tMin: 37.1\tMax: 39.6\tMean: 39.2\tMov. Avg: 27.9\n",
      "Episode 71 (213 sec)  -- \tMin: 31.9\tMax: 39.4\tMean: 38.0\tMov. Avg: 28.1\n",
      "Episode 72 (214 sec)  -- \tMin: 34.4\tMax: 38.9\tMean: 37.6\tMov. Avg: 28.2\n",
      "Episode 73 (215 sec)  -- \tMin: 36.5\tMax: 39.6\tMean: 38.3\tMov. Avg: 28.4\n",
      "Episode 74 (214 sec)  -- \tMin: 32.5\tMax: 39.7\tMean: 38.3\tMov. Avg: 28.5\n",
      "Episode 75 (213 sec)  -- \tMin: 36.5\tMax: 39.6\tMean: 38.7\tMov. Avg: 28.6\n",
      "Episode 76 (220 sec)  -- \tMin: 34.4\tMax: 39.6\tMean: 38.5\tMov. Avg: 28.8\n",
      "Episode 77 (218 sec)  -- \tMin: 37.8\tMax: 39.7\tMean: 39.1\tMov. Avg: 28.9\n",
      "Episode 78 (217 sec)  -- \tMin: 32.1\tMax: 39.6\tMean: 38.0\tMov. Avg: 29.0\n",
      "Episode 79 (215 sec)  -- \tMin: 34.0\tMax: 39.0\tMean: 37.6\tMov. Avg: 29.1\n",
      "Episode 80 (211 sec)  -- \tMin: 33.1\tMax: 39.7\tMean: 37.1\tMov. Avg: 29.2\n",
      "Episode 81 (220 sec)  -- \tMin: 31.8\tMax: 38.6\tMean: 35.5\tMov. Avg: 29.3\n",
      "Episode 82 (220 sec)  -- \tMin: 15.4\tMax: 38.3\tMean: 32.3\tMov. Avg: 29.3\n",
      "Episode 83 (220 sec)  -- \tMin: 8.8\tMax: 27.8\tMean: 19.2\tMov. Avg: 29.2\n",
      "Episode 84 (220 sec)  -- \tMin: 4.5\tMax: 20.4\tMean: 10.0\tMov. Avg: 29.0\n",
      "Episode 85 (220 sec)  -- \tMin: 9.4\tMax: 21.8\tMean: 14.8\tMov. Avg: 28.8\n",
      "Episode 86 (216 sec)  -- \tMin: 4.9\tMax: 30.5\tMean: 22.4\tMov. Avg: 28.7\n",
      "Episode 87 (215 sec)  -- \tMin: 19.5\tMax: 34.5\tMean: 27.8\tMov. Avg: 28.7\n",
      "Episode 88 (213 sec)  -- \tMin: 8.0\tMax: 30.2\tMean: 22.8\tMov. Avg: 28.7\n",
      "Episode 89 (217 sec)  -- \tMin: 15.0\tMax: 39.3\tMean: 28.2\tMov. Avg: 28.7\n",
      "Episode 90 (221 sec)  -- \tMin: 21.3\tMax: 36.2\tMean: 29.4\tMov. Avg: 28.7\n",
      "Episode 91 (214 sec)  -- \tMin: 8.3\tMax: 37.7\tMean: 29.1\tMov. Avg: 28.7\n",
      "Episode 92 (214 sec)  -- \tMin: 19.5\tMax: 38.0\tMean: 31.6\tMov. Avg: 28.7\n",
      "Episode 93 (221 sec)  -- \tMin: 30.1\tMax: 37.7\tMean: 35.0\tMov. Avg: 28.8\n",
      "Episode 94 (218 sec)  -- \tMin: 23.5\tMax: 39.6\tMean: 35.7\tMov. Avg: 28.8\n",
      "Episode 95 (211 sec)  -- \tMin: 27.3\tMax: 39.1\tMean: 36.0\tMov. Avg: 28.9\n",
      "Episode 96 (215 sec)  -- \tMin: 25.7\tMax: 39.3\tMean: 34.9\tMov. Avg: 29.0\n",
      "Episode 97 (220 sec)  -- \tMin: 34.4\tMax: 39.4\tMean: 37.3\tMov. Avg: 29.1\n",
      "Episode 98 (214 sec)  -- \tMin: 35.1\tMax: 39.6\tMean: 38.1\tMov. Avg: 29.2\n",
      "Episode 99 (215 sec)  -- \tMin: 36.4\tMax: 39.5\tMean: 38.2\tMov. Avg: 29.2\n",
      "Episode 100 (218 sec)  -- \tMin: 33.8\tMax: 39.2\tMean: 37.4\tMov. Avg: 29.3\n",
      "Episode 101 (214 sec)  -- \tMin: 32.4\tMax: 39.5\tMean: 37.3\tMov. Avg: 29.7\n",
      "Episode 102 (222 sec)  -- \tMin: 32.8\tMax: 39.7\tMean: 38.3\tMov. Avg: 30.1\n",
      "\n",
      "Environment SOLVED in 2 episodes!\tMoving Average =30.1 over last 100 episodes\n"
     ]
    }
   ],
   "source": [
    "# run the training loop\n",
    "agent = Agent(state_size=state_size, action_size=action_size, random_seed=1)\n",
    "scores, avgs = ddpg()"
   ]
  },
  {
   "cell_type": "code",
   "execution_count": 12,
   "metadata": {},
   "outputs": [
    {
     "name": "stdout",
     "output_type": "stream",
     "text": [
      "\n",
      "Elapsed Time: 323.10 mins.\n"
     ]
    }
   ],
   "source": [
    "end = time.time()\n",
    "elapsed = (end - start) / 60.0 # in minutes\n",
    "print(\"\\nElapsed Time: {0:3.2f} mins.\".format(elapsed))"
   ]
  },
  {
   "cell_type": "code",
   "execution_count": 13,
   "metadata": {},
   "outputs": [
    {
     "data": {
      "image/png": "[encoded data removed]",
      "text/plain": [
       "<matplotlib.figure.Figure at 0x7f8164dfa550>"
      ]
     },
     "metadata": {
      "needs_background": "light"
     },
     "output_type": "display_data"
    }
   ],
   "source": [
    "# plot the scores\n",
    "fig = plt.figure()\n",
    "ax = fig.add_subplot(111)\n",
    "plt.plot(np.arange(len(scores)), scores, label='DDPG')\n",
    "plt.plot(np.arange(len(scores)), avgs, c='r', label='Moving AVG')\n",
    "plt.ylabel('Score')\n",
    "plt.xlabel('Episode #')\n",
    "plt.legend(loc='upper left');\n",
    "plt.show()"
   ]
  },
  {
   "cell_type": "code",
   "execution_count": 14,
   "metadata": {},
   "outputs": [],
   "source": [
    "env.close()\n"
   ]
  },
  {
   "cell_type": "code",
   "execution_count": null,
   "metadata": {},
   "outputs": [],
   "source": []
  }
 ],
 "metadata": {
  "kernelspec": {
   "display_name": "Python 3",
   "language": "python",
   "name": "python3"
  },
  "language_info": {
   "codemirror_mode": {
    "name": "ipython",
    "version": 3
   },
   "file_extension": ".py",
   "mimetype": "text/x-python",
   "name": "python",
   "nbconvert_exporter": "python",
   "pygments_lexer": "ipython3",
   "version": "3.7.3"
  }
 },
 "nbformat": 4,
 "nbformat_minor": 2
}
